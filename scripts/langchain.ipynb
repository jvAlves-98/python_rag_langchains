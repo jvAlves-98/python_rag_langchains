{
 "cells": [
  {
   "cell_type": "code",
   "execution_count": 1,
   "id": "2d8590d7",
   "metadata": {},
   "outputs": [],
   "source": [
    "import os\n",
    "from dotenv import load_dotenv\n",
    "\n",
    "load_dotenv('/home/joaovfalves/Documentos/python_rag_langchains/scripts/.env')\n",
    "\n",
    "os.environ['GOOGLE_API_KEY'] = os.getenv('GOOGLE_API_KEY')"
   ]
  },
  {
   "cell_type": "code",
   "execution_count": 2,
   "id": "a5007ec0",
   "metadata": {},
   "outputs": [
    {
     "name": "stderr",
     "output_type": "stream",
     "text": [
      "WARNING: All log messages before absl::InitializeLog() is called are written to STDERR\n",
      "E0000 00:00:1758825631.392514   53065 alts_credentials.cc:93] ALTS creds ignored. Not running on GCP and untrusted ALTS is not enabled.\n"
     ]
    }
   ],
   "source": [
    "from langchain_google_genai import ChatGoogleGenerativeAI\n",
    "from langchain.prompts import ChatPromptTemplate\n",
    "\n",
    "llm = ChatGoogleGenerativeAI(model=\"gemini-flash-lite-latest\", temperature = 0)"
   ]
  },
  {
   "cell_type": "code",
   "execution_count": 3,
   "id": "1e9c5590",
   "metadata": {},
   "outputs": [],
   "source": [
    "# Exemplo 1: Prompting Tradicional (sem RAG)\n",
    "\n",
    "pergunta = \"Qual é a politica de home office da nossa empresa\"\n",
    "\n",
    "prompt_tradicional = ChatPromptTemplate.from_template(\n",
    "    \"Responda a seguinte pergunta: {pergunta}\"\n",
    ")"
   ]
  },
  {
   "cell_type": "code",
   "execution_count": 4,
   "id": "a297c4fe",
   "metadata": {},
   "outputs": [],
   "source": [
    "chain_tradicional = prompt_tradicional | llm\n",
    "\n",
    "resposta_tradicional = chain_tradicional.invoke({\"pergunta\": pergunta})"
   ]
  },
  {
   "cell_type": "code",
   "execution_count": 5,
   "id": "7e63975c",
   "metadata": {},
   "outputs": [
    {
     "name": "stdout",
     "output_type": "stream",
     "text": [
      "Para responder com precisão sobre a política de home office da **sua empresa**, eu precisaria de acesso a essa informação específica. Como sou um modelo de linguagem de IA, eu **não tenho acesso a dados internos, documentos ou políticas confidenciais de empresas específicas**.\n",
      "\n",
      "**Para descobrir a política de home office da sua empresa, você deve consultar as seguintes fontes:**\n",
      "\n",
      "1. **Departamento de Recursos Humanos (RH):** Eles são a fonte oficial e detêm a documentação completa da política.\n",
      "2. **Intranet ou Portal do Funcionário:** Muitas empresas publicam políticas e manuais de RH nesses sistemas internos.\n",
      "3. **Seu Gestor Direto:** Ele deve estar ciente das diretrizes aplicáveis à sua equipe ou departamento.\n",
      "4. **Comunicação Interna Recente:** Verifique e-mails ou comunicados enviados pela liderança ou RH sobre o modelo de trabalho (híbrido, remoto total, presencial).\n",
      "\n",
      "---\n",
      "\n",
      "### Modelos Comuns de Política de Home Office (Para você saber o que esperar):\n",
      "\n",
      "Embora eu não saiba a sua, as políticas de home office geralmente se enquadram em uma destas categorias:\n",
      "\n",
      "1. **Totalmente Presencial:** O home office não é permitido ou é permitido apenas em raras exceções (ex: emergências médicas).\n",
      "2. **Híbrido (Mais Comum):** Os funcionários são obrigados a comparecer ao escritório um número fixo de dias por semana/mês (ex: 3 dias no escritório, 2 dias em casa).\n",
      "3. **Remoto Flexível:** O funcionário pode trabalhar de casa na maior parte do tempo, mas deve comparecer ao escritório para reuniões importantes, treinamentos ou eventos de equipe (geralmente com aviso prévio).\n",
      "4. **Totalmente Remoto:** O funcionário trabalha de casa permanentemente, podendo ser exigido que ele compareça ao escritório apenas poucas vezes ao ano para encontros gerais da empresa.\n",
      "\n",
      "**Recomendo fortemente que você entre em contato com o RH da sua organização para obter a versão oficial e atualizada da política.**\n"
     ]
    }
   ],
   "source": [
    "print(resposta_tradicional.content)"
   ]
  },
  {
   "cell_type": "code",
   "execution_count": null,
   "id": "c3d05189",
   "metadata": {},
   "outputs": [],
   "source": []
  }
 ],
 "metadata": {
  "kernelspec": {
   "display_name": ".venv",
   "language": "python",
   "name": "python3"
  },
  "language_info": {
   "codemirror_mode": {
    "name": "ipython",
    "version": 3
   },
   "file_extension": ".py",
   "mimetype": "text/x-python",
   "name": "python",
   "nbconvert_exporter": "python",
   "pygments_lexer": "ipython3",
   "version": "3.10.12"
  }
 },
 "nbformat": 4,
 "nbformat_minor": 5
}
