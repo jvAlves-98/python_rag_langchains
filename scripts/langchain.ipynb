{
 "cells": [
  {
   "cell_type": "code",
   "execution_count": 1,
   "id": "2d8590d7",
   "metadata": {},
   "outputs": [],
   "source": [
    "import os\n",
    "from dotenv import load_dotenv\n",
    "\n",
    "load_dotenv('/home/jvfalves/documentos/cursos/python_rag_langchains/scripts/.env')\n",
    "\n",
    "os.environ['GOOGLE_API_KEY'] = os.getenv('GOOGLE_API_KEY')"
   ]
  },
  {
   "cell_type": "code",
   "execution_count": 2,
   "id": "a5007ec0",
   "metadata": {},
   "outputs": [
    {
     "name": "stderr",
     "output_type": "stream",
     "text": [
      "WARNING: All log messages before absl::InitializeLog() is called are written to STDERR\n",
      "E0000 00:00:1758565720.998178   32167 alts_credentials.cc:93] ALTS creds ignored. Not running on GCP and untrusted ALTS is not enabled.\n"
     ]
    }
   ],
   "source": [
    "from langchain_google_genai import ChatGoogleGenerativeAI\n",
    "from langchain.prompts import ChatPromptTemplate\n",
    "\n",
    "llm = ChatGoogleGenerativeAI(model=\"gemini-2.5-flash\", temperature = 0)"
   ]
  },
  {
   "cell_type": "code",
   "execution_count": 3,
   "id": "1e9c5590",
   "metadata": {},
   "outputs": [],
   "source": [
    "# Exemplo 1: Prompting Tradicional (sem RAG)\n",
    "\n",
    "pergunta = \"Qual é a politica de home office da nossa empresa\"\n",
    "\n",
    "prompt_tradicional = ChatPromptTemplate.from_template(\n",
    "    \"Responda a seguinte pergunta: {pergunta}\"\n",
    ")"
   ]
  },
  {
   "cell_type": "code",
   "execution_count": 4,
   "id": "a297c4fe",
   "metadata": {},
   "outputs": [],
   "source": [
    "chain_tradicional = prompt_tradicional | llm\n",
    "\n",
    "resposta_tradicional = chain_tradicional.invoke({\"pergunta\": pergunta})"
   ]
  },
  {
   "cell_type": "code",
   "execution_count": 5,
   "id": "7e63975c",
   "metadata": {},
   "outputs": [
    {
     "name": "stdout",
     "output_type": "stream",
     "text": [
      "Como sou uma inteligência artificial e não tenho acesso às políticas internas específicas da sua empresa, não consigo informar qual é a política de home office da *sua* empresa.\n",
      "\n",
      "No entanto, posso te orientar sobre onde você pode encontrar essa informação e quais são os tipos comuns de políticas de home office.\n",
      "\n",
      "**Onde você pode encontrar a política de home office da sua empresa:**\n",
      "\n",
      "1.  **Departamento de Recursos Humanos (RH):** É a fonte mais comum para todas as políticas da empresa. Eles podem fornecer o documento oficial ou direcioná-lo.\n",
      "2.  **Seu gerente ou supervisor direto:** Ele deve estar ciente das políticas da equipe e da empresa.\n",
      "3.  **Intranet ou portal interno da empresa:** Muitas empresas disponibilizam seus documentos de políticas em uma plataforma interna acessível aos colaboradores.\n",
      "4.  **Manual do Colaborador ou documento de políticas internas:** Algumas empresas têm um manual abrangente que inclui todas as diretrizes.\n",
      "5.  **Líder da sua equipe:** Em algumas empresas, a política pode ter nuances específicas para cada equipe ou departamento.\n",
      "\n",
      "**Tipos Comuns de Políticas de Home Office:**\n",
      "\n",
      "As políticas de home office variam muito de empresa para empresa, mas geralmente se enquadram em algumas categorias:\n",
      "\n",
      "*   **Totalmente Remoto (Full Remote):** A empresa opera 100% remotamente, sem um escritório físico principal ou com um escritório opcional para encontros pontuais.\n",
      "*   **Híbrido:** É o modelo mais comum atualmente. Pode ter várias formas:\n",
      "    *   **Dias Fixos:** Por exemplo, 2 ou 3 dias no escritório e o restante em casa, com dias específicos definidos pela empresa ou equipe.\n",
      "    *   **Flexível:** Os colaboradores têm uma cota de dias para ir ao escritório por semana/mês, mas podem escolher quais dias, mediante coordenação com a equipe.\n",
      "    *   **Baseado em Equipe:** Cada equipe define sua própria dinâmica de trabalho híbrido, de acordo com suas necessidades.\n",
      "*   **Ocasional/Ad-hoc:** O home office é permitido apenas em situações específicas (ex: mau tempo, compromissos pessoais, necessidade de concentração para um projeto específico), mediante aprovação prévia.\n",
      "*   **Sem Home Office:** A empresa exige a presença física de todos os colaboradores no escritório em tempo integral.\n",
      "\n",
      "**Aspectos Importantes a Considerar na Política da sua Empresa:**\n",
      "\n",
      "Ao buscar a política, preste atenção a detalhes como:\n",
      "\n",
      "*   **Elegibilidade:** Quem pode trabalhar de casa (todos, apenas algumas funções, após um período de experiência)?\n",
      "*   **Requisitos:** Quais são as exigências (internet de qualidade, espaço adequado, equipamentos fornecidos ou não)?\n",
      "*   **Processo de Aprovação:** Como solicitar o home office e quem aprova?\n",
      "*   **Suporte e Recursos:** A empresa oferece algum tipo de suporte para despesas (internet, energia) ou equipamentos?\n",
      "*   **Localização:** Há restrições geográficas para o trabalho remoto (apenas na mesma cidade/estado/país)?\n",
      "\n",
      "A melhor forma de obter a informação exata é consultar uma das fontes internas mencionadas acima.\n"
     ]
    }
   ],
   "source": [
    "print(resposta_tradicional.content)"
   ]
  },
  {
   "cell_type": "code",
   "execution_count": null,
   "id": "c3d05189",
   "metadata": {},
   "outputs": [],
   "source": []
  }
 ],
 "metadata": {
  "kernelspec": {
   "display_name": ".venv",
   "language": "python",
   "name": "python3"
  },
  "language_info": {
   "codemirror_mode": {
    "name": "ipython",
    "version": 3
   },
   "file_extension": ".py",
   "mimetype": "text/x-python",
   "name": "python",
   "nbconvert_exporter": "python",
   "pygments_lexer": "ipython3",
   "version": "3.10.12"
  }
 },
 "nbformat": 4,
 "nbformat_minor": 5
}
